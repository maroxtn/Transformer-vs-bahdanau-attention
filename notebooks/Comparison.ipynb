{
 "cells": [
  {
   "cell_type": "code",
   "execution_count": 1,
   "metadata": {},
   "outputs": [],
   "source": [
    "import torch\n",
    "import torch.nn as nn\n",
    "import torch.optim as optim\n",
    "from torchtext.datasets import IWSLT \n",
    "from torchtext.data import Field, BucketIterator\n",
    "import numpy as np\n",
    "import spacy\n",
    "import random\n",
    "\n",
    "import seaborn as sns\n",
    "import matplotlib.pyplot as plt\n",
    "\n",
    "from torch.nn import TransformerEncoder, TransformerEncoderLayer\n",
    "from torch.nn import TransformerDecoder, TransformerDecoderLayer\n",
    "import torch.nn.functional as F\n",
    "\n",
    "import warnings\n",
    "warnings.filterwarnings(\"ignore\")"
   ]
  },
  {
   "cell_type": "markdown",
   "metadata": {},
   "source": [
    "# <b>Loading the data</b>"
   ]
  },
  {
   "cell_type": "code",
   "execution_count": 2,
   "metadata": {},
   "outputs": [],
   "source": [
    "CFG = {\"IN_LANG\":\"de\", \"OUT_LANG\": \"en\"}"
   ]
  },
  {
   "cell_type": "code",
   "execution_count": 3,
   "metadata": {},
   "outputs": [
    {
     "name": "stdout",
     "output_type": "stream",
     "text": [
      "✔ Download and installation successful\n",
      "You can now load the model via spacy.load('en_core_web_sm')\n",
      "✔ Download and installation successful\n",
      "You can now load the model via spacy.load('de_core_news_sm')\n"
     ]
    }
   ],
   "source": [
    "import spacy.cli\n",
    "import en_core_web_sm\n",
    "import de_core_news_sm\n",
    "\n",
    "\n",
    "spacy.cli.download(\"en_core_web_sm\")\n",
    "spacy.cli.download(\"de_core_news_sm\")\n",
    "\n",
    "\n",
    "if CFG[\"IN_LANG\"] == \"en\":\n",
    "    spacy_in_lang = en_core_web_sm.load()\n",
    "    spacy_out_lang = de_core_news_sm.load()\n",
    "else:\n",
    "    spacy_in_lang = de_core_news_sm.load()\n",
    "    spacy_out_lang = en_core_web_sm.load()\n",
    "    "
   ]
  },
  {
   "cell_type": "code",
   "execution_count": 4,
   "metadata": {},
   "outputs": [],
   "source": [
    "def tokenizer_in(text):\n",
    "    return [tok.text for tok in spacy_in_lang.tokenizer(text)]\n",
    "\n",
    "def tokenizer_out(text):\n",
    "    return [tok.text for tok in spacy_out_lang.tokenizer(text)]\n",
    "\n",
    "in_lang = Field(tokenize=tokenizer_in, lower=True)\n",
    "out_lang = Field(tokenize=tokenizer_out, lower=True, init_token=\"<sos>\", eos_token=\"<eos>\")"
   ]
  },
  {
   "cell_type": "code",
   "execution_count": 5,
   "metadata": {},
   "outputs": [],
   "source": [
    "MAX_LEN = 25\n",
    "\n",
    "train_data, valid_data, test_data = IWSLT.splits(root=\"../data\",\n",
    "        exts=(\".\"+CFG[\"IN_LANG\"], \".\"+CFG[\"OUT_LANG\"]), fields=(in_lang, out_lang ) ,filter_pred=lambda x: len(vars(x)['src']) <= MAX_LEN and \n",
    "            len(vars(x)['trg']) <= MAX_LEN)"
   ]
  },
  {
   "cell_type": "code",
   "execution_count": 6,
   "metadata": {},
   "outputs": [],
   "source": [
    "in_lang.build_vocab(train_data, min_freq=2)\n",
    "out_lang.build_vocab(train_data, min_freq=2)"
   ]
  },
  {
   "cell_type": "code",
   "execution_count": 7,
   "metadata": {},
   "outputs": [],
   "source": [
    "def sample_example(): #Gives example from the dataset with its target (For visualizing attention weights)\n",
    "    \n",
    "    i = np.random.randint(0,len(valid_data))\n",
    "    \n",
    "    sentence = valid_data[i].src\n",
    "    target_sentence = valid_data[i].trg\n",
    "\n",
    "    target_sentence.insert(0,\"<sos>\")\n",
    "    target_sentence = target_sentence + [\"<eos>\"]\n",
    "    \n",
    "    return sentence, target_sentence"
   ]
  },
  {
   "cell_type": "code",
   "execution_count": 8,
   "metadata": {},
   "outputs": [],
   "source": [
    "in_pad_idx = in_lang.vocab.stoi['<pad>']\n",
    "out_pad_idx = out_lang.vocab.stoi['<pad>']"
   ]
  },
  {
   "cell_type": "markdown",
   "metadata": {},
   "source": [
    "# <b> Loading and preparing Transformer model </b>"
   ]
  },
  {
   "cell_type": "code",
   "execution_count": 9,
   "metadata": {},
   "outputs": [],
   "source": [
    "class PositionalEncoding(nn.Module):\n",
    "    def __init__(self, d_model, dropout=0.1, max_len=5000):\n",
    "        super(PositionalEncoding, self).__init__()\n",
    "        self.dropout = nn.Dropout(p=dropout)\n",
    "        self.scale = nn.Parameter(torch.ones(1))\n",
    "\n",
    "        pe = torch.zeros(max_len, d_model)\n",
    "        position = torch.arange(0, max_len, dtype=torch.float).unsqueeze(1)\n",
    "        div_term = torch.exp(torch.arange(\n",
    "            0, d_model, 2).float() * (-math.log(10000.0) / d_model))\n",
    "        pe[:, 0::2] = torch.sin(position * div_term)\n",
    "        pe[:, 1::2] = torch.cos(position * div_term)\n",
    "        pe = pe.unsqueeze(0).transpose(0, 1)\n",
    "        self.register_buffer('pe', pe)\n",
    "\n",
    "    def forward(self, x):\n",
    "        x = x + self.scale * self.pe[:x.size(0), :]\n",
    "        return self.dropout(x)"
   ]
  },
  {
   "cell_type": "code",
   "execution_count": 10,
   "metadata": {},
   "outputs": [],
   "source": [
    "class TransformerModel(nn.Module):\n",
    "    \n",
    "    def __init__(self, intoken, outtoken ,hidden, enc_layers=2, dec_layers=2, dropout=.1, nheads=2, ff_model=128):\n",
    "        super(TransformerModel, self).__init__()\n",
    "        \n",
    "        self.encoder = nn.Embedding(intoken, hidden)\n",
    "        self.pos_encoder = PositionalEncoding(hidden, dropout)\n",
    "\n",
    "        self.decoder = nn.Embedding(outtoken, hidden) \n",
    "        self.pos_decoder = PositionalEncoding(hidden, dropout)\n",
    "        \n",
    "        \n",
    "        encoder_layers = TransformerEncoderLayer(d_model=hidden, nhead = nheads, dim_feedforward = ff_model, dropout=dropout, activation='relu')\n",
    "        self.transformer_encoder = TransformerEncoder(encoder_layers, enc_layers)\n",
    "\n",
    "        encoder_layers = TransformerDecoderLayer(hidden, nheads, ff_model, dropout, activation='relu')\n",
    "        self.transformer_decoder = TransformerDecoder(encoder_layers, dec_layers)        \n",
    "\n",
    "        self.fc_out = nn.Linear(hidden, outtoken)\n",
    "\n",
    "        self.src_mask = None\n",
    "        self.trg_mask = None\n",
    "        self.memory_mask = None\n",
    "\n",
    "        \n",
    "    def generate_square_subsequent_mask(self, sz, sz1=None):\n",
    "        \n",
    "        if sz1 == None:\n",
    "            mask = torch.triu(torch.ones(sz, sz), 1)\n",
    "        else:\n",
    "            mask = torch.triu(torch.ones(sz, sz1), 1)\n",
    "            \n",
    "        return mask.masked_fill(mask==1, float('-inf'))\n",
    "\n",
    "    def make_len_mask_enc(self, inp):\n",
    "        return (inp == in_pad_idx).transpose(0, 1)   #(batch_size, output_seq_len)\n",
    "    \n",
    "    def make_len_mask_dec(self, inp):\n",
    "        return (inp == out_pad_idx).transpose(0, 1) #(batch_size, input_seq_len)\n",
    "    \n",
    "\n",
    "\n",
    "    def forward(self, src, trg): #SRC: (seq_len, batch_size)\n",
    "\n",
    "        if self.trg_mask is None or self.trg_mask.size(0) != len(trg):\n",
    "            self.trg_mask = self.generate_square_subsequent_mask(len(trg)).to(trg.device)\n",
    "            \n",
    "\n",
    "        #Adding padding mask\n",
    "        src_pad_mask = self.make_len_mask_enc(src)\n",
    "        trg_pad_mask = self.make_len_mask_dec(trg)\n",
    "             \n",
    "\n",
    "        #Add embeddings Encoder\n",
    "        src = self.encoder(src)  #Embedding, (seq_len, batch_size, d_model)\n",
    "        src = self.pos_encoder(src)   #Pos embedding\n",
    "        \n",
    "        \n",
    "        #Add embedding decoder\n",
    "        trg = self.decoder(trg) #(seq_len, batch_size, d_model)\n",
    "        trg = self.pos_decoder(trg)\n",
    "\n",
    "        \n",
    "        memory = self.transformer_encoder(src, None, src_pad_mask)\n",
    "        output = self.transformer_decoder(tgt = trg, memory = memory, tgt_mask = self.trg_mask, memory_mask = None, \n",
    "                                          tgt_key_padding_mask = trg_pad_mask, memory_key_padding_mask = src_pad_mask)\n",
    "\n",
    "        output = self.fc_out(output)\n",
    "\n",
    "        return output"
   ]
  },
  {
   "cell_type": "code",
   "execution_count": 11,
   "metadata": {},
   "outputs": [
    {
     "data": {
      "text/plain": [
       "<All keys matched successfully>"
      ]
     },
     "execution_count": 11,
     "metadata": {},
     "output_type": "execute_result"
    }
   ],
   "source": [
    "import math\n",
    "\n",
    "device = torch.device('cuda' if torch.cuda.is_available() else 'cpu')\n",
    "\n",
    "#Model Hyperparameter\n",
    "input_size_encoder = len(in_lang.vocab)\n",
    "input_size_decoder = len(out_lang.vocab)\n",
    "output_size = len(out_lang.vocab)\n",
    "\n",
    "d_model = 256\n",
    "\n",
    "\n",
    "transformer_model = TransformerModel(input_size_encoder, input_size_decoder ,d_model, enc_layers=1, dec_layers=1, dropout=.1, nheads=1, ff_model=1028).to(device)\n",
    "transformer_model.load_state_dict(torch.load(\"../models/transformer\"))"
   ]
  },
  {
   "cell_type": "code",
   "execution_count": 12,
   "metadata": {},
   "outputs": [],
   "source": [
    "def get_out_encoder_transformer(src, model):  #Get the transformer memory out of the encoder\n",
    "    \n",
    "    model.eval()\n",
    "    tokens = src\n",
    "    \n",
    "    text_to_indices = [in_lang.vocab.stoi[token] for token in tokens]\n",
    "\n",
    "    # Convert to Tensor\n",
    "    sentence_tensor = torch.LongTensor(text_to_indices).unsqueeze(1).to(device)    \n",
    "\n",
    "    with torch.no_grad():\n",
    "        \n",
    "        emb_src = model.encoder(sentence_tensor)\n",
    "        emb_src = model.pos_encoder(emb_src)\n",
    "\n",
    "        memory = model.transformer_encoder(emb_src)\n",
    "\n",
    "        return memory"
   ]
  },
  {
   "cell_type": "code",
   "execution_count": 13,
   "metadata": {},
   "outputs": [],
   "source": [
    "def get_att_weights_transformer(model, source): #Source and target sentence tokenized\n",
    "    \n",
    "    model.eval()\n",
    "    \n",
    "    memory = get_out_encoder_transformer(source, model)\n",
    "    decoder = model.transformer_decoder.layers[0]\n",
    "    \n",
    "    #Transformer decoder original codee   \n",
    "    preds = [out_lang.vocab.stoi[out_lang.init_token]]\n",
    "\n",
    "    for i in range(50):\n",
    "\n",
    "        tgt = torch.Tensor(preds).long().unsqueeze(1).to(device)\n",
    "        tgt = model.decoder(tgt)\n",
    "        tgt = model.pos_decoder(tgt)\n",
    "\n",
    "        tgt2, _ = decoder.self_attn(tgt, tgt, tgt)\n",
    "        tgt = tgt + decoder.dropout1(tgt2)\n",
    "        tgt = decoder.norm1(tgt)\n",
    "        tgt2, att_weights = decoder.multihead_attn(tgt, memory, memory)\n",
    "\n",
    "        tgt = tgt + decoder.dropout2(tgt2)\n",
    "        tgt = decoder.norm2(tgt)\n",
    "        tgt2 = decoder.linear2(decoder.dropout(decoder.activation(decoder.linear1(tgt))))\n",
    "        tgt = tgt + decoder.dropout3(tgt2)\n",
    "        out = decoder.norm3(tgt)\n",
    "\n",
    "\n",
    "        out = model.fc_out(out)   \n",
    "\n",
    "        words = out[-1].argmax(-1).reshape(-1).detach().cpu().numpy()\n",
    "        preds.append(words[0])\n",
    "\n",
    "        if words[0] == out_lang.vocab.stoi[\"<eos>\"]:\n",
    "            break\n",
    "\n",
    "\n",
    "\n",
    "    preds = [out_lang.vocab.itos[i] for i in preds]\n",
    "    att_weights = att_weights[0].detach().cpu().numpy()\n",
    "\n",
    "    return att_weights, preds[1:]\n",
    "        "
   ]
  },
  {
   "cell_type": "code",
   "execution_count": 14,
   "metadata": {},
   "outputs": [],
   "source": [
    "def translate_sentence_transformer(model, sentence, max_length=50):\n",
    "    model.eval()\n",
    "    tokens = [token.text.lower() for token in spacy_in_lang(sentence)]\n",
    "\n",
    "    text_to_indices = [in_lang.vocab.stoi[token] for token in tokens]\n",
    "\n",
    "    # Convert to Tensor\n",
    "    sentence_tensor = torch.LongTensor(text_to_indices).unsqueeze(1).to(device)\n",
    "\n",
    "    preds = [out_lang.vocab.stoi[out_lang.init_token]]\n",
    "\n",
    "    with torch.no_grad():\n",
    "        \n",
    "        emb_src = model.encoder(sentence_tensor)\n",
    "        emb_src = model.pos_encoder(emb_src)\n",
    "\n",
    "        memory = model.transformer_encoder(emb_src)\n",
    "\n",
    "        for i in range(50):\n",
    "\n",
    "            trg = torch.Tensor(preds).long().unsqueeze(1).to(device)\n",
    "            trg = model.decoder(trg)\n",
    "            trg = model.pos_decoder(trg)\n",
    "\n",
    "            out = model.transformer_decoder(tgt = trg, memory = memory)\n",
    "            out = model.fc_out(out)\n",
    "            \n",
    "            \n",
    "\n",
    "            new = out.squeeze(1)[-1].argmax().item()\n",
    "            preds.append(new)\n",
    "            if new == out_lang.vocab.stoi[\"<eos>\"]:\n",
    "                break\n",
    "\n",
    "    \n",
    "    return \" \".join([out_lang.vocab.itos[i] for i in preds][1:-1])"
   ]
  },
  {
   "cell_type": "markdown",
   "metadata": {},
   "source": [
    "# <b>Loading and preparing RNN model</b>"
   ]
  },
  {
   "cell_type": "code",
   "execution_count": 15,
   "metadata": {},
   "outputs": [],
   "source": [
    "class Encoder(nn.Module): \n",
    "    def __init__(self, input_size, embedding_size, hidden_size, num_layers, p):\n",
    "        super(Encoder, self).__init__()\n",
    "        self.hidden_size = hidden_size\n",
    "        self.num_layers = num_layers\n",
    "\n",
    "        self.embedding = nn.Embedding(input_size, embedding_size)\n",
    "        self.rnn = nn.GRU(embedding_size, hidden_size, num_layers, bidirectional=True)\n",
    "\n",
    "        self.fc_hidden = nn.Linear(hidden_size * 2, hidden_size)\n",
    "        self.dropout = nn.Dropout(p)\n",
    "\n",
    "    def forward(self, x):\n",
    "\n",
    "        embedding = self.dropout(self.embedding(x))\n",
    "        encoder_states, hidden = self.rnn(embedding)\n",
    "\n",
    "        hidden = self.fc_hidden(torch.cat((hidden[0:1], hidden[1:2]), dim=2))\n",
    "\n",
    "        return encoder_states, hidden\n"
   ]
  },
  {
   "cell_type": "code",
   "execution_count": 16,
   "metadata": {},
   "outputs": [],
   "source": [
    "class Decoder(nn.Module):\n",
    "    def __init__(self, input_size, embedding_size, hidden_size, output_size, num_layers, p):\n",
    "        \n",
    "        super(Decoder, self).__init__()\n",
    "        self.hidden_size = hidden_size\n",
    "        self.num_layers = num_layers\n",
    "\n",
    "        self.embedding = nn.Embedding(input_size, embedding_size)\n",
    "        self.rnn = nn.GRU(hidden_size * 2 + embedding_size, hidden_size, num_layers)\n",
    "\n",
    "        self.energy = nn.Linear(hidden_size, 1)\n",
    "        self.fc = nn.Linear(hidden_size, output_size)\n",
    "        self.dropout = nn.Dropout(p)\n",
    "        self.softmax = nn.Softmax(dim=0)\n",
    "        \n",
    "        self.fc_key = nn.Linear(hidden_size, hidden_size)\n",
    "        self.fc_query = nn.Linear(hidden_size*2, hidden_size)\n",
    "\n",
    "    def forward(self, x, encoder_states, hidden):\n",
    "        \n",
    "        x = x.unsqueeze(0)\n",
    "        embedding = self.dropout(self.embedding(x))\n",
    "        \n",
    "        key = self.fc_key(hidden)\n",
    "        query = self.fc_query(encoder_states)\n",
    "        \n",
    "        #Additive attention\n",
    "        energy = key+query\n",
    "        energy = self.energy(torch.tanh(energy))\n",
    "        attention = self.softmax(energy)\n",
    "\n",
    "        # Apply attention weights\n",
    "        context_vector = torch.einsum(\"snk,snl->knl\", attention, encoder_states)\n",
    "\n",
    "        rnn_input = torch.cat((context_vector, embedding), dim=2)\n",
    "        outputs, hidden = self.rnn(rnn_input, hidden)\n",
    "        \n",
    "        predictions = self.fc(outputs).squeeze(0)\n",
    "\n",
    "        return predictions, hidden, attention\n",
    "\n",
    "\n",
    "class Seq2Seq(nn.Module):\n",
    "    def __init__(self, encoder, decoder):\n",
    "        super(Seq2Seq, self).__init__()\n",
    "        self.encoder = encoder\n",
    "        self.decoder = decoder\n",
    "\n",
    "    def forward(self, source, target, teacher_force_ratio=1):\n",
    "        batch_size = source.shape[1]\n",
    "        target_len = target.shape[0]\n",
    "        target_vocab_size = len(out_lang.vocab)\n",
    "\n",
    "        outputs = torch.zeros(target_len, batch_size, target_vocab_size).to(device)\n",
    "        encoder_states, hidden = self.encoder(source)\n",
    "        x = target[0]\n",
    "\n",
    "        for t in range(1, target_len):\n",
    "\n",
    "            output, hidden = self.decoder(x, encoder_states, hidden)\n",
    "            outputs[t] = output\n",
    "            \n",
    "            best_guess = output.argmax(1)\n",
    "            x = target[t] if random.random() < teacher_force_ratio else best_guess\n",
    "\n",
    "        return outputs\n"
   ]
  },
  {
   "cell_type": "code",
   "execution_count": 17,
   "metadata": {},
   "outputs": [
    {
     "data": {
      "text/plain": [
       "<All keys matched successfully>"
      ]
     },
     "execution_count": 17,
     "metadata": {},
     "output_type": "execute_result"
    }
   ],
   "source": [
    "num_layers = 1\n",
    "dropout = 0.1\n",
    "\n",
    "d_model=256\n",
    "\n",
    "encoder_embedding_size = d_model\n",
    "decoder_embedding_size = d_model\n",
    "hidden_size = d_model\n",
    "\n",
    "\n",
    "\n",
    "encoder_net = Encoder(input_size_encoder, encoder_embedding_size, \n",
    "                      hidden_size, num_layers, dropout).to(device)\n",
    "\n",
    "decoder_net = Decoder(input_size_decoder, decoder_embedding_size, \n",
    "                      hidden_size, output_size, num_layers, dropout).to(device)\n",
    "\n",
    "rnn_model = Seq2Seq(encoder_net, decoder_net).to(device)\n",
    "rnn_model.load_state_dict(torch.load(\"../models/rnn_model\"))"
   ]
  },
  {
   "cell_type": "code",
   "execution_count": 18,
   "metadata": {},
   "outputs": [],
   "source": [
    "def get_att_weights_bahdanau(model, sentence, max_length=50):\n",
    "    \n",
    "    model.eval()\n",
    "\n",
    "    target_encoded = [out_lang.vocab.stoi[target_sentence[i]] for i in range(len(target_sentence))]\n",
    "    tokens = sentence\n",
    "\n",
    "    text_to_indices = [in_lang.vocab.stoi[token] for token in tokens]\n",
    "    sentence_tensor = torch.LongTensor(text_to_indices).unsqueeze(1).to(device)\n",
    "\n",
    "    preds = [out_lang.vocab.stoi[out_lang.init_token]]\n",
    "    attention = np.empty((0,len(tokens)))\n",
    "\n",
    "    with torch.no_grad():\n",
    "        \n",
    "        encoder_states, hidden = model.encoder(sentence_tensor)\n",
    "        \n",
    "        for t in range(max_length):\n",
    "                    \n",
    "            trg = torch.Tensor([preds[-1]]).long().to(device)\n",
    "\n",
    "            output, hidden, att_weights = model.decoder(trg, encoder_states, hidden)\n",
    "            att_weights = att_weights.squeeze().detach().cpu().numpy()\n",
    "  \n",
    "            attention = np.vstack((attention,att_weights))\n",
    "            new = output.argmax(1).item()\n",
    "\n",
    "            preds.append(new)\n",
    "            \n",
    "            if new == out_lang.vocab.stoi[\"<eos>\"]:\n",
    "                break\n",
    "            \n",
    "        \n",
    "    return attention, [out_lang.vocab.itos[i] for i in preds][1:]"
   ]
  },
  {
   "cell_type": "markdown",
   "metadata": {},
   "source": [
    "---------\n",
    "\n",
    "# Visualizing the weights"
   ]
  },
  {
   "cell_type": "code",
   "execution_count": 19,
   "metadata": {},
   "outputs": [
    {
     "data": {
      "text/plain": [
       "\"i want to eat something , because i 'm hungry .\""
      ]
     },
     "execution_count": 19,
     "metadata": {},
     "output_type": "execute_result"
    }
   ],
   "source": [
    "translate_sentence_transformer(transformer_model, \"Ich möchte etwas essen gehen, weil ich hungrig bin.\", max_length=50)"
   ]
  },
  {
   "cell_type": "code",
   "execution_count": 20,
   "metadata": {},
   "outputs": [],
   "source": [
    "sentence, target_sentence = sample_example()"
   ]
  },
  {
   "cell_type": "code",
   "execution_count": 21,
   "metadata": {},
   "outputs": [
    {
     "name": "stdout",
     "output_type": "stream",
     "text": [
      "Source: und das ging tatsächlich zurück auf den mut eines mannes mit dem außergewöhnlichen namen brass crosby , der sich mit dem parlament anlegte . \n",
      "Target: and this was actually all down to the bravery of a guy with the extraordinary name of brass crosby , who took on parliament .\n"
     ]
    }
   ],
   "source": [
    "print(\"Source: %s \\nTarget: %s\" % (\" \".join(sentence), \" \".join(target_sentence[1:-1])))"
   ]
  },
  {
   "cell_type": "code",
   "execution_count": 22,
   "metadata": {},
   "outputs": [
    {
     "data": {
      "image/png": "[encoded data removed]",
      "text/plain": [
       "<Figure size 936x739.44 with 2 Axes>"
      ]
     },
     "metadata": {},
     "output_type": "display_data"
    }
   ],
   "source": [
    "att_weights, tr_preds = get_att_weights_transformer(transformer_model, sentence)\n",
    "\n",
    "sns.set(rc={'figure.figsize':(13,10.27)})\n",
    "sns.heatmap(att_weights, xticklabels=sentence, yticklabels=tr_preds)\n",
    "\n",
    "plt.show()"
   ]
  },
  {
   "cell_type": "code",
   "execution_count": 23,
   "metadata": {},
   "outputs": [
    {
     "data": {
      "image/png": "[encoded data removed]",
      "text/plain": [
       "<Figure size 936x739.44 with 2 Axes>"
      ]
     },
     "metadata": {},
     "output_type": "display_data"
    }
   ],
   "source": [
    "att_weights, rnn_preds = get_att_weights_bahdanau(rnn_model, sentence)\n",
    "\n",
    "sns.set(rc={'figure.figsize':(13,10.27)})\n",
    "sns.heatmap(att_weights, xticklabels=sentence, yticklabels=rnn_preds)\n",
    "\n",
    "plt.show()"
   ]
  },
  {
   "cell_type": "code",
   "execution_count": 24,
   "metadata": {},
   "outputs": [
    {
     "data": {
      "text/html": [
       "<div>\n",
       "<style scoped>\n",
       "    .dataframe tbody tr th:only-of-type {\n",
       "        vertical-align: middle;\n",
       "    }\n",
       "\n",
       "    .dataframe tbody tr th {\n",
       "        vertical-align: top;\n",
       "    }\n",
       "\n",
       "    .dataframe thead th {\n",
       "        text-align: right;\n",
       "    }\n",
       "</style>\n",
       "<table border=\"1\" class=\"dataframe\">\n",
       "  <thead>\n",
       "    <tr style=\"text-align: right;\">\n",
       "      <th></th>\n",
       "      <th>0</th>\n",
       "      <th>1</th>\n",
       "      <th>2</th>\n",
       "      <th>3</th>\n",
       "      <th>4</th>\n",
       "      <th>5</th>\n",
       "      <th>6</th>\n",
       "      <th>7</th>\n",
       "      <th>8</th>\n",
       "      <th>9</th>\n",
       "      <th>...</th>\n",
       "      <th>17</th>\n",
       "      <th>18</th>\n",
       "      <th>19</th>\n",
       "      <th>20</th>\n",
       "      <th>21</th>\n",
       "      <th>22</th>\n",
       "      <th>23</th>\n",
       "      <th>24</th>\n",
       "      <th>25</th>\n",
       "      <th>26</th>\n",
       "    </tr>\n",
       "  </thead>\n",
       "  <tbody>\n",
       "    <tr>\n",
       "      <th>Source</th>\n",
       "      <td>and</td>\n",
       "      <td>this</td>\n",
       "      <td>was</td>\n",
       "      <td>actually</td>\n",
       "      <td>all</td>\n",
       "      <td>down</td>\n",
       "      <td>to</td>\n",
       "      <td>the</td>\n",
       "      <td>bravery</td>\n",
       "      <td>of</td>\n",
       "      <td>...</td>\n",
       "      <td>brass</td>\n",
       "      <td>crosby</td>\n",
       "      <td>,</td>\n",
       "      <td>who</td>\n",
       "      <td>took</td>\n",
       "      <td>on</td>\n",
       "      <td>parliament</td>\n",
       "      <td>.</td>\n",
       "      <td>None</td>\n",
       "      <td>None</td>\n",
       "    </tr>\n",
       "    <tr>\n",
       "      <th>Transformer</th>\n",
       "      <td>and</td>\n",
       "      <td>indeed</td>\n",
       "      <td>,</td>\n",
       "      <td>the</td>\n",
       "      <td>question</td>\n",
       "      <td>was</td>\n",
       "      <td>,</td>\n",
       "      <td>and</td>\n",
       "      <td>the</td>\n",
       "      <td>courage</td>\n",
       "      <td>...</td>\n",
       "      <td>who</td>\n",
       "      <td>joins</td>\n",
       "      <td>the</td>\n",
       "      <td>parliament</td>\n",
       "      <td>.</td>\n",
       "      <td>None</td>\n",
       "      <td>None</td>\n",
       "      <td>None</td>\n",
       "      <td>None</td>\n",
       "      <td>None</td>\n",
       "    </tr>\n",
       "    <tr>\n",
       "      <th>RNN</th>\n",
       "      <td>and</td>\n",
       "      <td>this</td>\n",
       "      <td>went</td>\n",
       "      <td>back</td>\n",
       "      <td>to</td>\n",
       "      <td>the</td>\n",
       "      <td>&lt;unk&gt;</td>\n",
       "      <td>of</td>\n",
       "      <td>a</td>\n",
       "      <td>great</td>\n",
       "      <td>...</td>\n",
       "      <td>,</td>\n",
       "      <td>who</td>\n",
       "      <td>'s</td>\n",
       "      <td>going</td>\n",
       "      <td>to</td>\n",
       "      <td>parliament</td>\n",
       "      <td>with</td>\n",
       "      <td>his</td>\n",
       "      <td>parliament</td>\n",
       "      <td>.</td>\n",
       "    </tr>\n",
       "  </tbody>\n",
       "</table>\n",
       "<p>3 rows × 27 columns</p>\n",
       "</div>"
      ],
      "text/plain": [
       "              0       1     2         3         4     5      6    7        8   \\\n",
       "Source       and    this   was  actually       all  down     to  the  bravery   \n",
       "Transformer  and  indeed     ,       the  question   was      ,  and      the   \n",
       "RNN          and    this  went      back        to   the  <unk>   of        a   \n",
       "\n",
       "                  9   ...     17      18   19          20    21          22  \\\n",
       "Source            of  ...  brass  crosby    ,         who  took          on   \n",
       "Transformer  courage  ...    who   joins  the  parliament     .        None   \n",
       "RNN            great  ...      ,     who   's       going    to  parliament   \n",
       "\n",
       "                     23    24          25    26  \n",
       "Source       parliament     .        None  None  \n",
       "Transformer        None  None        None  None  \n",
       "RNN                with   his  parliament     .  \n",
       "\n",
       "[3 rows x 27 columns]"
      ]
     },
     "execution_count": 24,
     "metadata": {},
     "output_type": "execute_result"
    }
   ],
   "source": [
    "import pandas as pd \n",
    "\n",
    "pd.DataFrame([target_sentence[1:-1], tr_preds[:-1], rnn_preds[:-1]], index=[\"Source\", \"Transformer\", \"RNN\"])"
   ]
  },
  {
   "cell_type": "code",
   "execution_count": null,
   "metadata": {},
   "outputs": [],
   "source": []
  },
  {
   "cell_type": "code",
   "execution_count": 25,
   "metadata": {},
   "outputs": [],
   "source": [
    "sentence, target_sentence = sample_example()"
   ]
  },
  {
   "cell_type": "code",
   "execution_count": 26,
   "metadata": {},
   "outputs": [
    {
     "name": "stdout",
     "output_type": "stream",
     "text": [
      "Source: danke . \n",
      "Target: thank you .\n"
     ]
    }
   ],
   "source": [
    "print(\"Source: %s \\nTarget: %s\" % (\" \".join(sentence), \" \".join(target_sentence[1:-1])))"
   ]
  },
  {
   "cell_type": "code",
   "execution_count": 27,
   "metadata": {},
   "outputs": [
    {
     "data": {
      "image/png": "[encoded data removed]",
      "text/plain": [
       "<Figure size 936x739.44 with 2 Axes>"
      ]
     },
     "metadata": {},
     "output_type": "display_data"
    }
   ],
   "source": [
    "att_weights, tr_preds = get_att_weights_transformer(transformer_model, sentence)\n",
    "\n",
    "sns.set(rc={'figure.figsize':(13,10.27)})\n",
    "sns.heatmap(att_weights, xticklabels=sentence, yticklabels=tr_preds)\n",
    "\n",
    "plt.show()"
   ]
  },
  {
   "cell_type": "code",
   "execution_count": 28,
   "metadata": {},
   "outputs": [
    {
     "data": {
      "image/png": "[encoded data removed]",
      "text/plain": [
       "<Figure size 936x739.44 with 2 Axes>"
      ]
     },
     "metadata": {},
     "output_type": "display_data"
    }
   ],
   "source": [
    "att_weights, rnn_preds = get_att_weights_bahdanau(rnn_model, sentence)\n",
    "\n",
    "sns.set(rc={'figure.figsize':(13,10.27)})\n",
    "sns.heatmap(att_weights, xticklabels=sentence, yticklabels=rnn_preds)\n",
    "\n",
    "plt.show()"
   ]
  },
  {
   "cell_type": "code",
   "execution_count": 29,
   "metadata": {},
   "outputs": [
    {
     "data": {
      "text/html": [
       "<div>\n",
       "<style scoped>\n",
       "    .dataframe tbody tr th:only-of-type {\n",
       "        vertical-align: middle;\n",
       "    }\n",
       "\n",
       "    .dataframe tbody tr th {\n",
       "        vertical-align: top;\n",
       "    }\n",
       "\n",
       "    .dataframe thead th {\n",
       "        text-align: right;\n",
       "    }\n",
       "</style>\n",
       "<table border=\"1\" class=\"dataframe\">\n",
       "  <thead>\n",
       "    <tr style=\"text-align: right;\">\n",
       "      <th></th>\n",
       "      <th>0</th>\n",
       "      <th>1</th>\n",
       "      <th>2</th>\n",
       "    </tr>\n",
       "  </thead>\n",
       "  <tbody>\n",
       "    <tr>\n",
       "      <th>Source</th>\n",
       "      <td>thank</td>\n",
       "      <td>you</td>\n",
       "      <td>.</td>\n",
       "    </tr>\n",
       "    <tr>\n",
       "      <th>Transformer</th>\n",
       "      <td>thank</td>\n",
       "      <td>you</td>\n",
       "      <td>.</td>\n",
       "    </tr>\n",
       "    <tr>\n",
       "      <th>RNN</th>\n",
       "      <td>thank</td>\n",
       "      <td>you</td>\n",
       "      <td>.</td>\n",
       "    </tr>\n",
       "  </tbody>\n",
       "</table>\n",
       "</div>"
      ],
      "text/plain": [
       "                 0    1  2\n",
       "Source       thank  you  .\n",
       "Transformer  thank  you  .\n",
       "RNN          thank  you  ."
      ]
     },
     "execution_count": 29,
     "metadata": {},
     "output_type": "execute_result"
    }
   ],
   "source": [
    "pd.DataFrame([target_sentence[1:-1], tr_preds[:-1], rnn_preds[:-1]], index=[\"Source\", \"Transformer\", \"RNN\"])"
   ]
  },
  {
   "cell_type": "code",
   "execution_count": null,
   "metadata": {},
   "outputs": [],
   "source": []
  },
  {
   "cell_type": "code",
   "execution_count": 30,
   "metadata": {},
   "outputs": [],
   "source": [
    "sentence, target_sentence = sample_example()"
   ]
  },
  {
   "cell_type": "code",
   "execution_count": 31,
   "metadata": {},
   "outputs": [
    {
     "name": "stdout",
     "output_type": "stream",
     "text": [
      "Source: das ist ein satellitenbild von nordkorea und seinen nachbarn bei nacht . \n",
      "Target: this is a satellite picture showing north korea at night compared to neighbors .\n"
     ]
    }
   ],
   "source": [
    "print(\"Source: %s \\nTarget: %s\" % (\" \".join(sentence), \" \".join(target_sentence[1:-1])))"
   ]
  },
  {
   "cell_type": "code",
   "execution_count": 32,
   "metadata": {},
   "outputs": [
    {
     "data": {
      "image/png": "[encoded data removed]",
      "text/plain": [
       "<Figure size 936x739.44 with 2 Axes>"
      ]
     },
     "metadata": {},
     "output_type": "display_data"
    }
   ],
   "source": [
    "att_weights, tr_preds = get_att_weights_transformer(transformer_model, sentence)\n",
    "\n",
    "sns.set(rc={'figure.figsize':(13,10.27)})\n",
    "sns.heatmap(att_weights, xticklabels=sentence, yticklabels=tr_preds)\n",
    "\n",
    "plt.show()"
   ]
  },
  {
   "cell_type": "code",
   "execution_count": 33,
   "metadata": {},
   "outputs": [
    {
     "data": {
      "image/png": "[encoded data removed]",
      "text/plain": [
       "<Figure size 936x739.44 with 2 Axes>"
      ]
     },
     "metadata": {},
     "output_type": "display_data"
    }
   ],
   "source": [
    "att_weights, rnn_preds = get_att_weights_bahdanau(rnn_model, sentence)\n",
    "\n",
    "sns.set(rc={'figure.figsize':(13,10.27)})\n",
    "sns.heatmap(att_weights, xticklabels=sentence, yticklabels=rnn_preds)\n",
    "\n",
    "plt.show()"
   ]
  },
  {
   "cell_type": "code",
   "execution_count": 34,
   "metadata": {},
   "outputs": [
    {
     "data": {
      "text/html": [
       "<div>\n",
       "<style scoped>\n",
       "    .dataframe tbody tr th:only-of-type {\n",
       "        vertical-align: middle;\n",
       "    }\n",
       "\n",
       "    .dataframe tbody tr th {\n",
       "        vertical-align: top;\n",
       "    }\n",
       "\n",
       "    .dataframe thead th {\n",
       "        text-align: right;\n",
       "    }\n",
       "</style>\n",
       "<table border=\"1\" class=\"dataframe\">\n",
       "  <thead>\n",
       "    <tr style=\"text-align: right;\">\n",
       "      <th></th>\n",
       "      <th>0</th>\n",
       "      <th>1</th>\n",
       "      <th>2</th>\n",
       "      <th>3</th>\n",
       "      <th>4</th>\n",
       "      <th>5</th>\n",
       "      <th>6</th>\n",
       "      <th>7</th>\n",
       "      <th>8</th>\n",
       "      <th>9</th>\n",
       "      <th>10</th>\n",
       "      <th>11</th>\n",
       "      <th>12</th>\n",
       "      <th>13</th>\n",
       "    </tr>\n",
       "  </thead>\n",
       "  <tbody>\n",
       "    <tr>\n",
       "      <th>Source</th>\n",
       "      <td>this</td>\n",
       "      <td>is</td>\n",
       "      <td>a</td>\n",
       "      <td>satellite</td>\n",
       "      <td>picture</td>\n",
       "      <td>showing</td>\n",
       "      <td>north</td>\n",
       "      <td>korea</td>\n",
       "      <td>at</td>\n",
       "      <td>night</td>\n",
       "      <td>compared</td>\n",
       "      <td>to</td>\n",
       "      <td>neighbors</td>\n",
       "      <td>.</td>\n",
       "    </tr>\n",
       "    <tr>\n",
       "      <th>Transformer</th>\n",
       "      <td>this</td>\n",
       "      <td>is</td>\n",
       "      <td>a</td>\n",
       "      <td>satellite</td>\n",
       "      <td>from</td>\n",
       "      <td>north</td>\n",
       "      <td>korea</td>\n",
       "      <td>and</td>\n",
       "      <td>his</td>\n",
       "      <td>neighbors</td>\n",
       "      <td>.</td>\n",
       "      <td>None</td>\n",
       "      <td>None</td>\n",
       "      <td>None</td>\n",
       "    </tr>\n",
       "    <tr>\n",
       "      <th>RNN</th>\n",
       "      <td>this</td>\n",
       "      <td>is</td>\n",
       "      <td>a</td>\n",
       "      <td>cover</td>\n",
       "      <td>from</td>\n",
       "      <td>north</td>\n",
       "      <td>and</td>\n",
       "      <td>his</td>\n",
       "      <td>neighbors</td>\n",
       "      <td>at</td>\n",
       "      <td>night</td>\n",
       "      <td>.</td>\n",
       "      <td>None</td>\n",
       "      <td>None</td>\n",
       "    </tr>\n",
       "  </tbody>\n",
       "</table>\n",
       "</div>"
      ],
      "text/plain": [
       "               0   1  2          3        4        5      6      7   \\\n",
       "Source       this  is  a  satellite  picture  showing  north  korea   \n",
       "Transformer  this  is  a  satellite     from    north  korea    and   \n",
       "RNN          this  is  a      cover     from    north    and    his   \n",
       "\n",
       "                    8          9         10    11         12    13  \n",
       "Source              at      night  compared    to  neighbors     .  \n",
       "Transformer        his  neighbors         .  None       None  None  \n",
       "RNN          neighbors         at     night     .       None  None  "
      ]
     },
     "execution_count": 34,
     "metadata": {},
     "output_type": "execute_result"
    }
   ],
   "source": [
    "pd.DataFrame([target_sentence[1:-1], tr_preds[:-1], rnn_preds[:-1]], index=[\"Source\", \"Transformer\", \"RNN\"])"
   ]
  }
 ],
 "metadata": {
  "kernelspec": {
   "display_name": "Python 3",
   "language": "python",
   "name": "python3"
  },
  "language_info": {
   "codemirror_mode": {
    "name": "ipython",
    "version": 3
   },
   "file_extension": ".py",
   "mimetype": "text/x-python",
   "name": "python",
   "nbconvert_exporter": "python",
   "pygments_lexer": "ipython3",
   "version": "3.9.1"
  }
 },
 "nbformat": 4,
 "nbformat_minor": 4
}
